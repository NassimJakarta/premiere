{
 "cells": [
  {
   "cell_type": "markdown",
   "metadata": {},
   "source": [
    "\n",
    "<h1 style=\"font-size: 30px; text-align: center\">- Les bases de l'algorithmique avec Python - </h1>\n",
    "\n",
    "---"
   ]
  },
  {
   "cell_type": "markdown",
   "metadata": {},
   "source": [
    "**Objectifs :**\n",
    "<ul> \n",
    "    <li> Connaître et écrire des instructions conditionnelles (si alors) et des répétitives (pour, tant que) \n",
    "<li> Ecrire un algorithme en pseudo-code\n",
    "<li>Faire fonctionner un algorithme à la main\n",
    "<li>Compter le nombre d'opérations dans un algorithme (introduction au coût d'un algorithme)\n",
    "<li>Compter le nombre d'itérations dans un algorithme (introduction au coût d'un algorithme)\n",
    "    <ul/>"
   ]
  },
  {
   "cell_type": "markdown",
   "metadata": {},
   "source": [
    "## I- Variables et affectations\n",
    "\n",
    "> Dans un algorithme, des variables sont utilisées pour stocker des \"valeurs\" qui peuvent être de différents types, des nombres (entiers ou réels), des chaînes de caractères, des booléens et beaucoup d'autres choses.\n",
    "Un identificateur de variable dénote un emplacement dans la mémoire dans lequel une valeur est stockée.\n",
    "L'opération de base pour créer ou modifier une variable est l'affectation et s'écrit avec le signe =.\n",
    "Attention, à ne pas confondre l'opérateur d'affectation avec l'opérateur d'égalité qui s'écrit avec un double signe égal ==."
   ]
  },
  {
   "cell_type": "code",
   "execution_count": null,
   "metadata": {},
   "outputs": [],
   "source": [
    "print(x)"
   ]
  },
  {
   "cell_type": "code",
   "execution_count": null,
   "metadata": {},
   "outputs": [],
   "source": [
    "x=5\n",
    "print(x)"
   ]
  },
  {
   "cell_type": "code",
   "execution_count": null,
   "metadata": {},
   "outputs": [],
   "source": [
    "x=3\n",
    "print(x+9)\n",
    "print(2*x)"
   ]
  },
  {
   "cell_type": "code",
   "execution_count": null,
   "metadata": {},
   "outputs": [],
   "source": [
    "x=7\n",
    "y=4*x\n",
    "print(y)"
   ]
  },
  {
   "cell_type": "code",
   "execution_count": null,
   "metadata": {},
   "outputs": [],
   "source": [
    "x=x+3\n",
    "print(x-1)"
   ]
  },
  {
   "cell_type": "markdown",
   "metadata": {
    "slideshow": {
     "slide_type": ""
    }
   },
   "source": [
    "## II- Instructions conditionnelles (Si)\n",
    "\n",
    "> Une instruction conditionnelle, ou instruction de test, permet de faire des choix dans un algorithme en fonction de la valeur d'une condition.\n",
    "On parle souvent d'une instruction si-alors.\n",
    "Une condition est une expression qui est soit vraie, soit fausse c'est donc un booléen.\n",
    "\n",
    "La structure la plus simple est de la forme:\n",
    "\n",
    "```python\n",
    "if condition:\n",
    "    instructions\n",
    "```"
   ]
  },
  {
   "cell_type": "code",
   "execution_count": null,
   "metadata": {},
   "outputs": [],
   "source": [
    "# Exemple\n",
    "\n",
    "n=...\n",
    "if n%2==0:\n",
    "    n=n//2"
   ]
  },
  {
   "cell_type": "markdown",
   "metadata": {},
   "source": [
    "#### Remarque\n",
    "> L'indentation décalage vers la droite du début de ligne, est un élément de syntaxe important en Python. Elle délimite des blocs de code et elle aide à la lisibilité en permettant d'identifier facilement ces blocs. La ligne précédant l'indentation se termine par deux points."
   ]
  },
  {
   "cell_type": "markdown",
   "metadata": {},
   "source": [
    "<p> Une deuxième structure est de la forme if-else:\n",
    "\n",
    "```python\n",
    "if condition:\n",
    "    instruction1\n",
    "else:\n",
    "    instruction2\"\n",
    "```\n",
    "<p/>"
   ]
  },
  {
   "cell_type": "code",
   "execution_count": null,
   "metadata": {},
   "outputs": [],
   "source": [
    "# Exemple\n",
    "\n",
    "n= ...\n",
    "if n%2==0:\n",
    "    n=n//2\n",
    "else:\n",
    "    n=3*n+1\n",
    "print(...)"
   ]
  },
  {
   "cell_type": "markdown",
   "metadata": {},
   "source": [
    "<p> Une troisième structure avec plus de conditions, if-elif-else:\n",
    "    \n",
    "```python\n",
    "if condition1:\n",
    "    instructions1\n",
    "elif condition2:\n",
    "    instruction2\n",
    "elif condition2\n",
    "    instruction3    \n",
    "...    \n",
    "else:\n",
    "    instructions\n",
    "```\n",
    "<p/>"
   ]
  },
  {
   "cell_type": "code",
   "execution_count": null,
   "metadata": {},
   "outputs": [],
   "source": [
    "# Exemple\n",
    "n=...\n",
    "if n % 4 == 0:\n",
    "    n = n//4\n",
    "elif n%4==1:\n",
    "    n=(3*n+1) // 4\n",
    "elif n % 4 ==2:\n",
    "    n = n // 2\n",
    "else:\n",
    "    n = (3*n + 1) // 2"
   ]
  },
  {
   "cell_type": "markdown",
   "metadata": {
    "slideshow": {
     "slide_type": ""
    }
   },
   "source": [
    "## III- Répétitives énumérées (Boucles Pour)\n",
    "\n",
    "> La boucle Pour est une structure qui permet de répéter plusieurs fois l'exécution d'une ou plusieurs instructions. On parle de répétitive énumérée car on peut énumérer à l'avance les valeurs de l'itérateur de boucle.\n",
    "La structure d'une telle boucle est:\n",
    "    \n",
    "```python\n",
    "    for i in range (n):\n",
    "    instructions \n",
    "    \n",
    "n étant un entier connu\n",
    "```\n",
    "    \n",
    "> Dans ce cas, une variable i est créée. Elle prend successivement les valeurs 0, 1, ..., n-1.\n",
    "<br> Ainsi, une boucle Pour s'utilise lorsque l'on connait à l'avance le nombre d'itérations à effectuer.\n",
    "Chaque passage dans la boucle Pour s'appelle une itération.\n"
   ]
  },
  {
   "cell_type": "code",
   "execution_count": null,
   "metadata": {},
   "outputs": [],
   "source": [
    "# Exemple\n",
    "\n",
    "for i in range (5):\n",
    "    print(i**2)"
   ]
  },
  {
   "cell_type": "markdown",
   "metadata": {},
   "source": [
    "Une boucle Pour en Python propose bien d'autres possibilités.\n",
    "<br> Considérons objet comme une séquence de plusieurs éléments (une chaîne de caractères ou une liste par exemple).\n",
    "<br> La syntaxe générale est :\n",
    "\n",
    "```python\n",
    " for element in objet:\n",
    "    instructions\n",
    "```\n"
   ]
  },
  {
   "cell_type": "code",
   "execution_count": null,
   "metadata": {},
   "outputs": [],
   "source": [
    "# Exemple\n",
    "\n",
    "for i in \"bonjour\":\n",
    "    print(i)"
   ]
  },
  {
   "cell_type": "code",
   "execution_count": null,
   "metadata": {},
   "outputs": [],
   "source": [
    "# Exemple\n",
    "\n",
    "chiffre=[0,1,2,3,4,5]\n",
    "for i in chiffre:\n",
    "    print(i)"
   ]
  },
  {
   "cell_type": "markdown",
   "metadata": {},
   "source": [
    "## IV- Répétitives conditionnées (Boucles Tant que)\n",
    "\n",
    ">La boucle Tant que (while) est aussi une structure qui permet de répéter plusieurs fois l'exécution d'une ou plusieurs instructions.\n",
    "On parle de répétitive conditionnée car c'est une condition qui va déterminer le nombre d'itérations à effectuer.\n",
    "Ainsi, une boucle Tant que s'utilise lorsque le nombre ditérations n'est pas connu à l'avance.\n",
    "Chaque passage de la boucle Tant que s'appelle aussi une itération.\n",
    "La structure générale d'une telle boucle est :\n",
    "<br> \n",
    "<br> \n",
    "```python\n",
    "while condition:\n",
    "    instructions\n",
    "```\n"
   ]
  },
  {
   "cell_type": "code",
   "execution_count": null,
   "metadata": {},
   "outputs": [],
   "source": [
    "# Exemple\n",
    "\n",
    "d=20\n",
    "while d>3:\n",
    "    d=d-3\n",
    "print(d)"
   ]
  },
  {
   "cell_type": "markdown",
   "metadata": {},
   "source": [
    "## V- Les fonctions\n",
    ">Une fonction est une séquence d'instructions (appelée le corps de la fonction), qui peut dépendre de paramètres ( ou arguments), qui produit un résultat, et dont l'exécution est déclenchée par une instruction d'appel à cette fonction. \n",
    "<br>La définition d'une fonction est introduite par le mot clé def, suivi du nom de la fonction accompagné du nom de ses paramètres entre parenthèses. Le bloc d'instructions qui suit correspond au corps de la fonction et est délimité par l'indentation.\n",
    "<br>L'exécution de l'instruction return, qui indique le résultat de la fonction, termine l'exécution du corps de la fonction. "
   ]
  },
  {
   "cell_type": "code",
   "execution_count": null,
   "metadata": {},
   "outputs": [],
   "source": [
    "# Exemple\n",
    "\n",
    "def triple(t):\n",
    "    return 3*t"
   ]
  },
  {
   "cell_type": "code",
   "execution_count": null,
   "metadata": {},
   "outputs": [],
   "source": [
    "# Testez la fonction triple avec quelques valeurs\n",
    "triple()"
   ]
  },
  {
   "cell_type": "code",
   "execution_count": null,
   "metadata": {},
   "outputs": [],
   "source": [
    "# Exemple\n",
    "\n",
    "def f(x):\n",
    "    return x**4+x**2\n",
    "\n",
    "# 1) Décrire la fonction f .\n",
    "# 2) Afficher dans la cellule ci-dessous f(0), f(1), f(2), f(3) et f(-1) ."
   ]
  },
  {
   "cell_type": "code",
   "execution_count": null,
   "metadata": {},
   "outputs": [],
   "source": []
  },
  {
   "cell_type": "markdown",
   "metadata": {},
   "source": [
    "### Exercice \n",
    ">Ecrire une fonction somme qui prendra en entrée deux nombres a et b, et renverra en sortie la somme de ses deux arguments."
   ]
  },
  {
   "cell_type": "code",
   "execution_count": null,
   "metadata": {},
   "outputs": [],
   "source": []
  },
  {
   "cell_type": "markdown",
   "metadata": {},
   "source": [
    "## Un petit formulaire des opérations sur les entiers ( type `int`)\n",
    "\n",
    "Les variables de type `int` représentent des entiers (naturels et relatifs). Les calculs mettant en jeu ce type de variables utilisent les opérateurs classiques, regroupés dans le tableau ci-dessous.\n",
    "\n",
    "| **Opération** | **Opérateur Python** |\n",
    "| --- | --- | \n",
    "| Addition  | + |\n",
    "| Soustraction | - |\n",
    "| Multiplication | * |\n",
    "| Division | / |\n",
    "| Puissance | ** |\n",
    "| Division entière | // |\n",
    "| Reste entier | % |\n",
    "\n",
    "> Vous devez absolument connaître ces opérateurs, notamment les trois derniers, vous l'aurez compris."
   ]
  },
  {
   "cell_type": "markdown",
   "metadata": {},
   "source": [
    "## Les opérateurs de comparaison\n",
    "\n",
    "Voici les opérateurs de comparaisons classiques :\n",
    "\n",
    "| **Opérateur** | **Signification** |\n",
    "| --- | --- | \n",
    "| <  | strictement inférieur |\n",
    "| <= | inférieur ou égal |\n",
    "| > | strictement supérieur |\n",
    "| >= | supérieur ou égal |\n",
    "| == | égal |\n",
    "| != | différent |"
   ]
  }
 ],
 "metadata": {
  "kernelspec": {
   "display_name": "Python 3 (ipykernel)",
   "language": "python",
   "name": "python3"
  },
  "language_info": {
   "codemirror_mode": {
    "name": "ipython",
    "version": 3
   },
   "file_extension": ".py",
   "mimetype": "text/x-python",
   "name": "python",
   "nbconvert_exporter": "python",
   "pygments_lexer": "ipython3",
   "version": "3.9.12"
  }
 },
 "nbformat": 4,
 "nbformat_minor": 2
}
